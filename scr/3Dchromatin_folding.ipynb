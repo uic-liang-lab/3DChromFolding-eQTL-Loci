{
 "cells": [
  {
   "cell_type": "markdown",
   "metadata": {},
   "source": [
    "### 1. Enviornment setup\n",
    "#### Script languages\n",
    "\n",
    "This script has been tested on Linux system with CMake (version>=2.8.12) installed. All C++ standard template libraries are supposed to be installed already.\n",
    "\n",
    "Follow the instruction on [sBIF](https://github.com/qiusun0215/sBIF) to install the required packages\n",
    "\n",
    "### 2. Compile\n",
    "\n",
    "```bash\n",
    "    cmake . \n",
    "    make\n",
    "```\n",
    "\n",
    "### 3. Usage\n",
    "\n",
    "```bash\n",
    "    sBIF [options] -i <inter_file> -c <chrm> -l <chrmLens> -s <start> -e <end> -o <out_folder>\n",
    "```\n",
    "\n",
    "Check [sBIF](https://github.com/qiusun0215/sBIF) for more options details \n",
    "\n",
    "\n",
    "### 4. Example\n",
    "\n",
    "```bash\n",
    "    bash GM12878_chr2.sh\n",
    "```\n",
    "\n"
   ]
  }
 ],
 "metadata": {
  "kernelspec": {
   "display_name": "Python 3",
   "language": "python",
   "name": "python3"
  },
  "language_info": {
   "codemirror_mode": {
    "name": "ipython",
    "version": 3
   },
   "file_extension": ".py",
   "mimetype": "text/x-python",
   "name": "python",
   "nbconvert_exporter": "python",
   "pygments_lexer": "ipython3",
   "version": "3.8.5"
  }
 },
 "nbformat": 4,
 "nbformat_minor": 4
}
