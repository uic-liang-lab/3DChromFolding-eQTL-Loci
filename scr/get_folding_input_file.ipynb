{
 "cells": [
  {
   "cell_type": "code",
   "execution_count": 1,
   "metadata": {},
   "outputs": [],
   "source": [
    "import pandas as pd\n",
    "import os\n",
    "import concurrent.futures\n",
    "\n",
    "def make_dir(d):\n",
    "    '''Utility for making a directory if not existing.'''\n",
    "    if not os.path.exists(d):\n",
    "        os.makedirs(d)\n",
    "        \n",
    "\n",
    "def get_spe_inter(hic_data,alpha=0.05):## alpha deflaut value = 0.05\n",
    "    hic_spe = hic_data.loc[hic_data['fdr']<alpha]\n",
    "    return hic_spe\n",
    "\n",
    "def get_fold_inputs(spe_df):    \n",
    "    spe_out_df = spe_df[['ibp','jbp','fq','i1','j1']]\n",
    "    spe_out_df['chr']=chr_num\n",
    "    spe_out_df['w'] = [1]*len(spe_out_df)\n",
    "    result = spe_out_df[['chr','ibp','jbp','fq','w']]\n",
    "    return result\n",
    "        \n"
   ]
  },
  {
   "cell_type": "code",
   "execution_count": null,
   "metadata": {},
   "outputs": [],
   "source": [
    "# load all hic data\n",
    "all_hic = pd.read_csv('../sample_data/specific_interactions/GM12878_chr2.230805000.231690000.csv')\n",
    "\n",
    "# call non-random interactions\n",
    "spe_hic = get_spe_inter(all_hic,alpha = 0.05)\n",
    "\n",
    "# get the folding input file\n",
    "fold_hic = get_fold_inputs(spe_hic)\n",
    "fold_hic_path = '../sample_data/fold_input/GM12878_chr2.230805000.231690000.txt'\n",
    "make_dir(fold_hic_path)\n",
    "fold_hic.to_csv(fold_hic_path, header=None, index=None, sep='\\t', mode='a')"
   ]
  }
 ],
 "metadata": {
  "kernelspec": {
   "display_name": "Python 3",
   "language": "python",
   "name": "python3"
  },
  "language_info": {
   "codemirror_mode": {
    "name": "ipython",
    "version": 3
   },
   "file_extension": ".py",
   "mimetype": "text/x-python",
   "name": "python",
   "nbconvert_exporter": "python",
   "pygments_lexer": "ipython3",
   "version": "3.8.5"
  }
 },
 "nbformat": 4,
 "nbformat_minor": 5
}
